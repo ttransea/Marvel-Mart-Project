{
 "cells": [
  {
   "cell_type": "markdown",
   "metadata": {},
   "source": [
    "\n",
    "```Python Project - Marvel Mart Project\n",
    "Tran Tran\n",
    "March 12 2021```"
   ]
  },
  {
   "cell_type": "markdown",
   "metadata": {},
   "source": [
    "## PART 1: Cleaning the Data"
   ]
  },
  {
   "cell_type": "code",
   "execution_count": 99,
   "metadata": {},
   "outputs": [],
   "source": [
    "#import essential libraries\n",
    "import csv \n",
    "import numpy as np\n",
    "import pandas as pd\n",
    "from pandas import DataFrame, Series\n",
    "import matplotlib.pyplot as plt \n",
    "import seaborn as sns\n",
    "sns.set(style='whitegrid', palette ='Set1')\n",
    "pd.set_option('display.float_format', lambda x: '%.3f' % x) #round to 3 decimal places in any calculation"
   ]
  },
  {
   "cell_type": "code",
   "execution_count": 100,
   "metadata": {},
   "outputs": [
    {
     "name": "stdout",
     "output_type": "stream",
     "text": [
      "Region             0\n",
      "Country            0\n",
      "Item Type         -6\n",
      "Sales Channel      0\n",
      "Order Priority   -15\n",
      "Order Date         0\n",
      "Order ID           0\n",
      "Ship Date          0\n",
      "Units Sold         0\n",
      "Unit Price         0\n",
      "Unit Cost          0\n",
      "Total Revenue      0\n",
      "Total Cost         0\n",
      "Total Profit       0\n",
      "dtype: int64\n",
      "Region             object\n",
      "Country            object\n",
      "Item Type          object\n",
      "Sales Channel      object\n",
      "Order Priority     object\n",
      "Order Date         object\n",
      "Order ID           object\n",
      "Ship Date          object\n",
      "Units Sold          int64\n",
      "Unit Price        float64\n",
      "Unit Cost         float64\n",
      "Total Revenue     float64\n",
      "Total Cost        float64\n",
      "Total Profit      float64\n",
      "dtype: object\n"
     ]
    }
   ],
   "source": [
    "mm=pd.read_csv(\"Project II/MM_Sales.csv\")\n",
    "print(mm.count()-mm.shape[0]) #check for missing data ,item type misses 6 items, order priority misses 15 items\n",
    "print(mm.dtypes)"
   ]
  },
  {
   "cell_type": "code",
   "execution_count": 101,
   "metadata": {},
   "outputs": [],
   "source": [
    "dataCleaned=mm.copy() #make a copy from MM_Sales"
   ]
  },
  {
   "cell_type": "code",
   "execution_count": 102,
   "metadata": {},
   "outputs": [
    {
     "name": "stdout",
     "output_type": "stream",
     "text": [
      "NULL\n",
      "NULL\n",
      "NULL\n",
      "Number of errors in Country: 3\n"
     ]
    }
   ],
   "source": [
    "#check for any data in Country which is not a string\n",
    "count=0\n",
    "for index, row in dataCleaned.iterrows():\n",
    "    try:\n",
    "        #try to convert each item as a float, if it fails, it's a string of word\n",
    "        row.loc['Country']=float(row.loc['Country']) #convert to float\n",
    "        dataCleaned.loc[int(index),'Country']='NULL' #if it's float, replaced it with NULL\n",
    "        print(dataCleaned.loc[int(index),'Country']) #print the NULL value \n",
    "        count+=1\n",
    "    except: #if it's a string, pass the value\n",
    "        pass\n",
    "print(f\"Number of errors in Country: {count}\")"
   ]
  },
  {
   "cell_type": "code",
   "execution_count": 103,
   "metadata": {},
   "outputs": [
    {
     "name": "stdout",
     "output_type": "stream",
     "text": [
      "NULL\n",
      "NULL\n",
      "NULL\n",
      "NULL\n",
      "NULL\n",
      "NULL\n",
      "Number of errors in Item Type: 6\n"
     ]
    }
   ],
   "source": [
    "#check for any data in Item Type which is not a string or missing\n",
    "#Note: invalid Item Type in this case will have only one instance of that invalid Item Type. \n",
    "#Usually, a list of valid item types would be supplied.\n",
    "count=0\n",
    "for index, row in dataCleaned.iterrows():\n",
    "    try:\n",
    "        row.loc['Item Type']=float(row.loc['Item Type']) #convert each item to float\n",
    "        #if it succeeds, it keeps going\n",
    "        #once the data is found, replace it with NULL:\n",
    "        dataCleaned.loc[int(index),'Item Type']='NULL'\n",
    "        print(dataCleaned.loc[int(index),'Item Type']) #print the NULL value \n",
    "        count+=1\n",
    "    except:  #if the value is string, pass it\n",
    "        pass\n",
    "print(f\"Number of errors in Item Type: {count}\")"
   ]
  },
  {
   "cell_type": "code",
   "execution_count": 104,
   "metadata": {},
   "outputs": [
    {
     "name": "stdout",
     "output_type": "stream",
     "text": [
      "NULL\n",
      "NULL\n",
      "NULL\n",
      "NULL\n",
      "NULL\n",
      "NULL\n",
      "NULL\n",
      "NULL\n",
      "NULL\n",
      "NULL\n",
      "NULL\n",
      "NULL\n",
      "NULL\n",
      "NULL\n",
      "NULL\n",
      "Number of errors in Order Priority: 15\n"
     ]
    }
   ],
   "source": [
    "#check for any data in Order Priority which is not a string or a valid priority code (C,H,M,L)\n",
    "count=0\n",
    "for index, row in dataCleaned.iterrows():\n",
    "    try:\n",
    "        row.loc['Order Priority']=float(row.loc['Order Priority']) #if it succeeds, it keeps going\n",
    "        #once the data is found, replace it with NULL:\n",
    "        dataCleaned.loc[int(index),'Order Priority']='NULL'\n",
    "        print(dataCleaned.loc[int(index),'Order Priority']) #print the data that has been changed/replaced\n",
    "        count+=1\n",
    "    except: #if it's not a number, it's the string, we'll determine if it's C,H,M or L.\n",
    "        if row.loc['Order Priority']!='C' and row.loc['Order Priority']!='H' and row.loc['Order Priority']!='M' and row.loc['Order Priority']!='L':\n",
    "            dataCleaned.loc[int(index),'Priority']='NULL' #if it doesn't match C,H,M,L, change it to NULL\n",
    "            print(dataCleaned.loc[int(index),'Priority']) #print the changed data\n",
    "            count+=1\n",
    "print(f\"Number of errors in Order Priority: {count}\")           "
   ]
  },
  {
   "cell_type": "code",
   "execution_count": 105,
   "metadata": {},
   "outputs": [
    {
     "name": "stdout",
     "output_type": "stream",
     "text": [
      "0\n",
      "0\n",
      "0\n",
      "0\n",
      "0\n",
      "Number of errors in Order ID: 5\n"
     ]
    }
   ],
   "source": [
    "#check for any data in Order ID which is not a integer or missing\n",
    "count=0\n",
    "for index, row in dataCleaned.iterrows():\n",
    "    try:\n",
    "        #try to convert each item as a integer, if it fails, it's a string of word\n",
    "        row.loc['Order ID']=int(row.loc['Order ID']) #convert to integer\n",
    "    except:\n",
    "        #if it's a string\n",
    "        dataCleaned.loc[int(index),'Order ID']=0 #if it's error, replace it with 0\n",
    "        print(dataCleaned.loc[int(index),'Order ID'])\n",
    "        count+=1\n",
    "print(f\"Number of errors in Order ID: {count}\")"
   ]
  },
  {
   "cell_type": "code",
   "execution_count": 106,
   "metadata": {},
   "outputs": [],
   "source": [
    "#create a new dataframe with NULL/0 value in the columns that we've worked with, \n",
    "#drop all data with NULL/0 value while keep data that is not NULL/0\n",
    "dataCleaned=dataCleaned[dataCleaned['Country']!='NULL']\n",
    "dataCleaned=dataCleaned[dataCleaned['Item Type']!='NULL']\n",
    "dataCleaned=dataCleaned[dataCleaned['Order Priority']!='NULL']\n",
    "dataCleaned=dataCleaned[dataCleaned['Order ID']!=0]"
   ]
  },
  {
   "cell_type": "code",
   "execution_count": 107,
   "metadata": {},
   "outputs": [
    {
     "name": "stdout",
     "output_type": "stream",
     "text": [
      "0\n",
      "0\n",
      "0\n",
      "0\n"
     ]
    }
   ],
   "source": [
    "#check for any NULL or O value in the 4 columns\n",
    "print(dataCleaned['Country'][dataCleaned['Country']=='NULL'].count()) \n",
    "print(dataCleaned['Item Type'][dataCleaned['Item Type']=='NULL'].count()) \n",
    "print(dataCleaned['Order Priority'][dataCleaned['Order Priority']=='NULL'].count()) \n",
    "print(dataCleaned['Order ID'][dataCleaned['Order ID']==0].count()) "
   ]
  },
  {
   "cell_type": "code",
   "execution_count": 108,
   "metadata": {},
   "outputs": [
    {
     "name": "stdout",
     "output_type": "stream",
     "text": [
      "Region            0\n",
      "Country           0\n",
      "Item Type         0\n",
      "Sales Channel     0\n",
      "Order Priority    0\n",
      "Order Date        0\n",
      "Order ID          0\n",
      "Ship Date         0\n",
      "Units Sold        0\n",
      "Unit Price        0\n",
      "Unit Cost         0\n",
      "Total Revenue     0\n",
      "Total Cost        0\n",
      "Total Profit      0\n",
      "dtype: int64\n"
     ]
    }
   ],
   "source": [
    "print (dataCleaned.isnull().sum()) #check for missing values"
   ]
  },
  {
   "cell_type": "code",
   "execution_count": 109,
   "metadata": {},
   "outputs": [
    {
     "name": "stdout",
     "output_type": "stream",
     "text": [
      "<class 'pandas.core.frame.DataFrame'>\n",
      "Int64Index: 49971 entries, 0 to 49999\n",
      "Data columns (total 14 columns):\n",
      " #   Column          Non-Null Count  Dtype  \n",
      "---  ------          --------------  -----  \n",
      " 0   Region          49971 non-null  object \n",
      " 1   Country         49971 non-null  object \n",
      " 2   Item Type       49971 non-null  object \n",
      " 3   Sales Channel   49971 non-null  object \n",
      " 4   Order Priority  49971 non-null  object \n",
      " 5   Order Date      49971 non-null  object \n",
      " 6   Order ID        49971 non-null  object \n",
      " 7   Ship Date       49971 non-null  object \n",
      " 8   Units Sold      49971 non-null  int64  \n",
      " 9   Unit Price      49971 non-null  float64\n",
      " 10  Unit Cost       49971 non-null  float64\n",
      " 11  Total Revenue   49971 non-null  float64\n",
      " 12  Total Cost      49971 non-null  float64\n",
      " 13  Total Profit    49971 non-null  float64\n",
      "dtypes: float64(5), int64(1), object(8)\n",
      "memory usage: 4.2+ MB\n"
     ]
    }
   ],
   "source": [
    "dataCleaned.info()  #check the data type for each column"
   ]
  },
  {
   "cell_type": "code",
   "execution_count": 111,
   "metadata": {},
   "outputs": [],
   "source": [
    " #write it to a new cvs file\n",
    "dataCleaned.to_csv(\"Project II/MM_Sales_clean.csv\",mode='w',index=False)"
   ]
  },
  {
   "cell_type": "markdown",
   "metadata": {},
   "source": [
    "## PART 2 : Exploratory Data Analysis with Reports & Visualizations"
   ]
  },
  {
   "cell_type": "code",
   "execution_count": 112,
   "metadata": {},
   "outputs": [],
   "source": [
    "\n",
    "newMm=pd.read_csv('Project II/MM_Sales_clean.csv') #read it into a new variable"
   ]
  },
  {
   "cell_type": "code",
   "execution_count": 113,
   "metadata": {},
   "outputs": [
    {
     "name": "stdout",
     "output_type": "stream",
     "text": [
      "Region            49971\n",
      "Country           49971\n",
      "Item Type         49971\n",
      "Sales Channel     49971\n",
      "Order Priority    49971\n",
      "Order Date        49971\n",
      "Order ID          49971\n",
      "Ship Date         49971\n",
      "Units Sold        49971\n",
      "Unit Price        49971\n",
      "Unit Cost         49971\n",
      "Total Revenue     49971\n",
      "Total Cost        49971\n",
      "Total Profit      49971\n",
      "dtype: int64\n"
     ]
    }
   ],
   "source": [
    "print(newMm.count()) #count the total rows"
   ]
  },
  {
   "cell_type": "markdown",
   "metadata": {},
   "source": [
    "- Question 1: We want to know which countries we sell the most so we can pick a new location to build a shipping center. Rank the Top 10 countries we sell to the most to least along with the number of sales we've had with that country."
   ]
  },
  {
   "cell_type": "code",
   "execution_count": 114,
   "metadata": {},
   "outputs": [
    {
     "name": "stdout",
     "output_type": "stream",
     "text": [
      "                                  Order ID\n",
      "Country                                   \n",
      "Trinidad and Tobago                    321\n",
      "Guinea                                 318\n",
      "Cape Verde                             314\n",
      "Maldives                               311\n",
      "Finland                                310\n",
      "Democratic Republic of the Congo       308\n",
      "Samoa                                  306\n",
      "Malta                                  305\n",
      "China                                  303\n",
      "South Sudan                            302\n"
     ]
    }
   ],
   "source": [
    "rank=newMm.groupby('Country').count()[['Order ID']].nlargest(10, 'Order ID') \n",
    "#group and rank the top 10 countries to which we sel the most\n",
    "#we are using Order ID because each Order ID is a unique transaction\n",
    "print(rank)"
   ]
  },
  {
   "cell_type": "markdown",
   "metadata": {},
   "source": [
    "Q1-1/ Using Seaborn or Matplotlib to showing these top 10 values by country."
   ]
  },
  {
   "cell_type": "code",
   "execution_count": 115,
   "metadata": {},
   "outputs": [
    {
     "name": "stdout",
     "output_type": "stream",
     "text": [
      "                             Country  Number of Transactions\n",
      "0               Trinidad and Tobago                      321\n",
      "1                             Guinea                     318\n",
      "2                         Cape Verde                     314\n",
      "3                           Maldives                     311\n",
      "4                            Finland                     310\n",
      "5  Democratic Republic of the Congo                      308\n",
      "6                              Samoa                     306\n",
      "7                              Malta                     305\n",
      "8                              China                     303\n",
      "9                        South Sudan                     302\n"
     ]
    }
   ],
   "source": [
    "#preparing to plot, create a dataframe from the above result \n",
    "ranking = pd.DataFrame([['Trinidad and Tobago ',321], ['Guinea',318], ['Cape Verde',314], ['Maldives',311], ['Finland',310],['Democratic Republic of the Congo ',308],['Samoa',306],['Malta',305],['China',303],['South Sudan',302]], columns=['Country', 'Number of Transactions'])\n",
    "print(ranking)"
   ]
  },
  {
   "cell_type": "code",
   "execution_count": 116,
   "metadata": {},
   "outputs": [
    {
     "data": {
      "image/png": "[encoded data removed]",
      "text/plain": [
       "<Figure size 720x360 with 1 Axes>"
      ]
     },
     "metadata": {},
     "output_type": "display_data"
    }
   ],
   "source": [
    "\n",
    "plt.figure(figsize=(10, 5)) #select figure size\n",
    "sns.set(style='whitegrid') #select stype from seaborn library\n",
    "sns.barplot(y = 'Country',x = 'Number of Transactions',data = ranking) #plot the barchart\n",
    "plt.ylabel('Country') #add label for x axis\n",
    "plt.xlabel('Number of Transactions') #add label for y axis\n",
    "plt.show()"
   ]
  },
  {
   "cell_type": "markdown",
   "metadata": {},
   "source": [
    "We have shipping centers in Trinidad and Tobago, Guinea, and Maldives.\n",
    "Based on the number of transaction, Cape Verde has the third most sales. Thus, we should build a shipping center in this country\n"
   ]
  },
  {
   "cell_type": "markdown",
   "metadata": {},
   "source": [
    "Q1-2/  Write the results to a text file called MM_Rankings.txt"
   ]
  },
  {
   "cell_type": "code",
   "execution_count": 117,
   "metadata": {},
   "outputs": [],
   "source": [
    "#create a new txt file called MM_Ranking\n",
    "with open(\"Project II/MM_Ranking.txt\", \"w+\") as writer:\n",
    "    writer.write(\"Countries Most Sale Transactions:\")"
   ]
  },
  {
   "cell_type": "code",
   "execution_count": 118,
   "metadata": {},
   "outputs": [],
   "source": [
    "#write the result to MM_Ranking using append \n",
    "with open(\"Project II/MM_Ranking.txt\", \"a+\") as writer:\n",
    "        writer.writelines(\"\\nTrinidad and Tobago:321\\nGuinea:318\\nCape Verde:314\\nMaldives:311\\nFinland:310\\nDemocratic Republic of the Congo:308\\nSamoa:306\\nMalta:305\\nChina:303\\nSouth Sudan:302\")\n",
    "        writer.writelines(\"\\nThe country we should build our shipping center is Cape Verde because Cape Verde has the third most sales and there is still no shipping center.\")"
   ]
  },
  {
   "cell_type": "markdown",
   "metadata": {},
   "source": [
    "- Question 2: Determine how many online and offline orders that our company takes. Calculate the count of the different Order Priority types. Show this in a pie chart format"
   ]
  },
  {
   "cell_type": "markdown",
   "metadata": {},
   "source": [
    "Q2-1/ Determine the count for how many online and offline orders we take."
   ]
  },
  {
   "cell_type": "code",
   "execution_count": 119,
   "metadata": {},
   "outputs": [
    {
     "name": "stdout",
     "output_type": "stream",
     "text": [
      "               Order ID\n",
      "Sales Channel          \n",
      "Offline           19788\n",
      "Online            30183\n"
     ]
    }
   ],
   "source": [
    "orderChannel=newMm.groupby('Sales Channel').count()[['Order ID']] #sort and count online and offline orders by Order ID\n",
    "print(orderChannel)"
   ]
  },
  {
   "cell_type": "markdown",
   "metadata": {},
   "source": [
    "Q2-2/Determine the count of the different Order Priority types."
   ]
  },
  {
   "cell_type": "code",
   "execution_count": 120,
   "metadata": {},
   "outputs": [
    {
     "name": "stdout",
     "output_type": "stream",
     "text": [
      "                Order ID\n",
      "Order Priority          \n",
      "C                   5012\n",
      "H                  15094\n",
      "L                   9984\n",
      "M                  19881\n"
     ]
    }
   ],
   "source": [
    "orderType=newMm.groupby('Order Priority').count()[['Order ID']]#sort and count order priorities by Order ID\n",
    "print(orderType)"
   ]
  },
  {
   "cell_type": "markdown",
   "metadata": {},
   "source": [
    "Q2-3/ Create a pie chart for each showing the differences in values (use Seaborn or Matplotlib)."
   ]
  },
  {
   "cell_type": "code",
   "execution_count": 124,
   "metadata": {},
   "outputs": [
    {
     "name": "stdout",
     "output_type": "stream",
     "text": [
      "  Sales Channel  Number of Sales\n",
      "0       Offline            19788\n",
      "1        Online            30183\n"
     ]
    }
   ],
   "source": [
    "#create a data frame from the Sales Channels sorting result to plot \n",
    "ocDf=pd.DataFrame([['Offline',19788],['Online',30183]],columns=['Sales Channel', 'Number of Sales'])\n",
    "print(ocDf)"
   ]
  },
  {
   "cell_type": "code",
   "execution_count": 125,
   "metadata": {},
   "outputs": [
    {
     "data": {
      "image/png": "[encoded data removed]",
      "text/plain": [
       "<Figure size 720x1080 with 1 Axes>"
      ]
     },
     "metadata": {},
     "output_type": "display_data"
    }
   ],
   "source": [
    "#plot a pie chart based on the above data frame\n",
    "sales_channel = ocDf['Sales Channel']\n",
    "number_of_sales = ocDf[\"Number of Sales\"]\n",
    "colors = [\"#ccccff\", \"#ffcccc\"]\n",
    "plt.figure(figsize=(10, 15)) \n",
    "plt.pie(number_of_sales, labels=sales_channel, colors=colors, shadow=True,autopct='%1.1f%%', startangle=90) #set autopct to display the percentage value with 1 decimal place\n",
    "plt.legend(loc=2, title='Sales Channel')\n",
    "plt.title(\"Online and Offline Take-Up\")\n",
    "plt.show()"
   ]
  },
  {
   "cell_type": "code",
   "execution_count": 126,
   "metadata": {},
   "outputs": [
    {
     "name": "stdout",
     "output_type": "stream",
     "text": [
      "  Order Priority  Number of Sales\n",
      "0              C             5012\n",
      "1              H            15094\n",
      "2              L             9984\n",
      "3              M            19881\n"
     ]
    }
   ],
   "source": [
    "#create a data frame from the Order Priority sorting result to plot\n",
    "otDf=pd.DataFrame([['C',5012],['H',15094],['L',9984],['M',19881]],columns=['Order Priority', 'Number of Sales'])\n",
    "print(otDf)"
   ]
  },
  {
   "cell_type": "code",
   "execution_count": 68,
   "metadata": {},
   "outputs": [
    {
     "data": {
      "image/png": "[encoded data removed]",
      "text/plain": [
       "<Figure size 720x1080 with 1 Axes>"
      ]
     },
     "metadata": {},
     "output_type": "display_data"
    }
   ],
   "source": [
    "#plot a pie chart based on the above data frame\n",
    "order_prior = otDf[\"Order Priority\"]\n",
    "number_of_sales = otDf[\"Number of Sales\"]\n",
    "colors = [\"#ffcc33\", \"#66ccff\",\"#99cc33\",\"#6633cc\"]\n",
    "plt.figure(figsize=(10, 15)) \n",
    "plt.pie(number_of_sales, labels=order_prior, colors=colors, #et autopct to display the percentage value with 1 decimal place\n",
    "autopct='%1.1f%%', shadow=True, startangle=150)\n",
    "plt.legend(loc=2, title=\"Order Priority\")\n",
    "plt.title(\"Order Priority Take-Up\")\n",
    "plt.show()"
   ]
  },
  {
   "cell_type": "markdown",
   "metadata": {},
   "source": [
    "Q2-4: Add the results of the highest sales channel type and the highest order priority to the file MM_Rankings.txt."
   ]
  },
  {
   "cell_type": "code",
   "execution_count": 127,
   "metadata": {},
   "outputs": [],
   "source": [
    "#write the result of Sales Channels to MM_Ranking\n",
    "with open(\"Project II/MM_Ranking.txt\", \"a+\") as writer:\n",
    "        writer.writelines(\"\\nSales Channels:\")\n",
    "        writer.writelines(\"\\nOnline:30183\\nOffline:19788\")\n",
    "        writer.writelines(\"\\nWe do more Online sales.\")\n",
    "        "
   ]
  },
  {
   "cell_type": "code",
   "execution_count": 128,
   "metadata": {},
   "outputs": [],
   "source": [
    "##write the result of Order Priorities to MM_Ranking\n",
    "with open(\"Project II/MM_Ranking.txt\", \"a+\") as writer:\n",
    "        writer.writelines(\"\\nOrder Prorities:\")\n",
    "        writer.writelines(\"\\nL:9984\\nM:19881\\nH:15094\\nC:5012\")\n",
    "        writer.writelines(\"\\nWe do more M priorities.\")\n",
    "        "
   ]
  },
  {
   "cell_type": "markdown",
   "metadata": {},
   "source": [
    "- Question 3: Finding the 3 item types which are providing the most profit."
   ]
  },
  {
   "cell_type": "markdown",
   "metadata": {},
   "source": [
    "Q3-1/ Create a Boxplot using Seaborn showing the Total Profits DISTRIBUTION by Item Type."
   ]
  },
  {
   "cell_type": "code",
   "execution_count": 71,
   "metadata": {},
   "outputs": [
    {
     "data": {
      "image/png": "[encoded data removed]",
      "text/plain": [
       "<Figure size 1080x720 with 1 Axes>"
      ]
     },
     "metadata": {},
     "output_type": "display_data"
    }
   ],
   "source": [
    "#Create a Boxplot using Seaborn showing the Total Profits DISTRIBUTION by Item Type.\n",
    "plt.figure(figsize=(15,10))\n",
    "ax=sns.boxplot(x=\"Item Type\", y=\"Total Profit\", data=newMm)"
   ]
  },
  {
   "cell_type": "markdown",
   "metadata": {},
   "source": [
    "Q3-2/Use Python to determine the sum of Total Profit by Item Type."
   ]
  },
  {
   "cell_type": "code",
   "execution_count": 72,
   "metadata": {},
   "outputs": [
    {
     "name": "stdout",
     "output_type": "stream",
     "text": [
      "                  Total Profit\n",
      "Item Type                     \n",
      "Baby Food       1942865748.120\n",
      "Beverages        327559249.080\n",
      "Cereal          1824726412.290\n",
      "Clothes         1520832019.680\n",
      "Cosmetics       3638407966.750\n",
      "Fruits            51010570.920\n",
      "Household       3401180998.060\n",
      "Meat            1196342404.400\n",
      "Office Supplies 2605440187.500\n",
      "Personal Care    535250525.600\n",
      "Snacks          1149715758.720\n",
      "Vegetables      1322639660.240\n"
     ]
    }
   ],
   "source": [
    "#group the item type then find the sum of Total Profit\n",
    "sumProDis = newMm.groupby('Item Type').sum()[['Total Profit']]\n",
    "print(sumProDis)"
   ]
  },
  {
   "cell_type": "markdown",
   "metadata": {},
   "source": [
    "Q3-3/Now create a chart type of your choice (Seaborn or Matplotlib) showing the sums of the different Item Types."
   ]
  },
  {
   "cell_type": "code",
   "execution_count": 73,
   "metadata": {},
   "outputs": [
    {
     "name": "stdout",
     "output_type": "stream",
     "text": [
      "         Item Types  Sum Of Total Profit\n",
      "0         Baby Food       1942865748.120\n",
      "1         Beverages        327559249.080\n",
      "2            Cereal       1824726412.290\n",
      "3           Clothes       1520832019.680\n",
      "4        Cosmestics       3638407966.750\n",
      "5            Fruits         51010570.920\n",
      "6         Household       3401180998.060\n",
      "7              Meat       1196342404.400\n",
      "8   Office Supplies       2605440187.500\n",
      "9     Personal Care        535250525.600\n",
      "10           Snacks       1149715758.720\n",
      "11       Vegetables       1322639660.240\n"
     ]
    }
   ],
   "source": [
    "#create a dictionary from the above result\n",
    "ProByType={'Item Types':['Baby Food','Beverages','Cereal','Clothes','Cosmestics',\n",
    "        'Fruits','Household','Meat','Office Supplies',\n",
    "        'Personal Care','Snacks','Vegetables'],'Sum Of Total Profit':[1942865748.120, 327559249.080, 1824726412.290, 1520832019.680,\n",
    "                3638407966.750, 51010570.920, 3401180998.060, 1196342404.400,\n",
    "                2605440187.500, 535250525.600, 1149715758.720, 1322639660.240]}\n",
    " #create a data frame from the dictionary         \n",
    "proByType=pd.DataFrame(ProByType,columns=['Item Types','Sum Of Total Profit'])\n",
    "print(proByType)"
   ]
  },
  {
   "cell_type": "code",
   "execution_count": 76,
   "metadata": {},
   "outputs": [
    {
     "data": {
      "image/png": "[encoded data removed]",
      "text/plain": [
       "<Figure size 1080x720 with 1 Axes>"
      ]
     },
     "metadata": {},
     "output_type": "display_data"
    }
   ],
   "source": [
    "#plot a bar chart showing the sums of the different Item Types\n",
    "x=proByType['Item Types'] #assign Item Types as variable x\n",
    "y=proByType['Sum Of Total Profit']#assign Sum Of Total Profit as variable y\n",
    "plt.figure(figsize=(15, 10)) #set a figure size\n",
    "plt.yscale('log')\n",
    "plt.title('Sum of Profit by Item Types') #add title\n",
    "plt.xlabel('Item Types') #add label for x axis\n",
    "plt.ylabel('Sum Of Total Profit') #add label for y axis\n",
    "plt.bar(x, y) #select type of visualization\n",
    "plt.show()"
   ]
  },
  {
   "cell_type": "markdown",
   "metadata": {},
   "source": [
    "Q3-4: Now, using Python, rank the top 3 item types we did the most sales (brought in most profit) in to the least sales. (Use 'Total Profit' to determine this).  Please list the item types and the amount of profit made from sales."
   ]
  },
  {
   "cell_type": "code",
   "execution_count": 77,
   "metadata": {},
   "outputs": [
    {
     "name": "stdout",
     "output_type": "stream",
     "text": [
      "                 Sum Of Total Profit\n",
      "Item Types                          \n",
      "Cosmestics            3638407966.750\n",
      "Household             3401180998.060\n",
      "Office Supplies       2605440187.500\n"
     ]
    }
   ],
   "source": [
    "#using nlargest to get the top 3 largest Sum of Total Profit\n",
    "cal=proByType.groupby('Item Types').sum()[['Sum Of Total Profit']].nlargest(3, 'Sum Of Total Profit') \n",
    "proRank=pd.DataFrame(cal)\n",
    "print(proRank)"
   ]
  },
  {
   "cell_type": "markdown",
   "metadata": {},
   "source": [
    "Q3-5: Add the results of the top 3 item types to the file MM_Rankings.txt."
   ]
  },
  {
   "cell_type": "code",
   "execution_count": 129,
   "metadata": {},
   "outputs": [],
   "source": [
    "#write the results to MM_Rankings\n",
    "with open(\"Project II/MM_Ranking.txt\", \"a+\") as writer:\n",
    "        writer.writelines(\"\\nHighest Selling Items:\")\n",
    "        writer.writelines(\"\\nCosmestics:3638407966.750\\nHousehold:3401180998.060\\nOffice Supplies: 2605440187.500\")\n",
    "        writer.writelines(\"\\nWe profited from Cosmetic the most.\")"
   ]
  },
  {
   "cell_type": "markdown",
   "metadata": {},
   "source": [
    "Q3-6: Provide a markdown section discussing the results of the boxplots. Discuss what is being shown in the boxplots amd do some business analytics around what sort of use this sort of chart might help in making decisions. Are there any unexpected results? Discuss them."
   ]
  },
  {
   "cell_type": "markdown",
   "metadata": {},
   "source": [
    "There's no outliers observed in the boxplot. We can asssume that there is little dispersed profit data among all the Item Types. Cosmetic is the Item Type that bring the most profit while Fruits bring the least. All the boxplots are normally distributed, the median of each item varies. \n",
    "Fruit, Personal Care, Meat and Beverages have the smaller area. This means these item types do not significantly contribute to the profit of our company.\n",
    "On the contrary, Household, Cosmetic and Office Supplies have the largest area. These item types bring most of our profit. \n",
    "In conclusion, the item types belonged to Food and Beverage Industry bring the least profit while we gain more profit from the supplying products , thus we should focus on the item types that are the most profitable. It's better to review the cost and profit from the item type Fruit. \n",
    "There's no unexpected result as there's no outlier. "
   ]
  },
  {
   "cell_type": "markdown",
   "metadata": {},
   "source": [
    "- Question 4: Determine some descriptive statistic. determine the sum, average and maximum values for the Units Sold, Unit Cost, Total Revenue, Total Cost and Total Profit.\n"
   ]
  },
  {
   "cell_type": "code",
   "execution_count": 79,
   "metadata": {},
   "outputs": [],
   "source": [
    "#create a new txt file named MM_Calc\n",
    "with open(\"Project II/MM_Calc.txt\", \"w+\") as writer:\n",
    "    writer.write(\"Sums:\")"
   ]
  },
  {
   "cell_type": "code",
   "execution_count": 80,
   "metadata": {},
   "outputs": [
    {
     "name": "stdout",
     "output_type": "stream",
     "text": [
      "249818150\n",
      "9360768.32\n",
      "66145004417.17\n",
      "46629032915.81\n",
      "19515971501.36\n"
     ]
    }
   ],
   "source": [
    "#calculate the SUM of each requested columns, print and round the result to 3 decimal places\n",
    "totalUS=newMm['Units Sold'].sum()\n",
    "totalUC=newMm['Unit Cost'].sum()\n",
    "totalRev=newMm['Total Revenue'].sum()\n",
    "totalCost=newMm['Total Cost'].sum()\n",
    "totalProfit=newMm['Total Profit'].sum()\n",
    "print(round(totalUS,3))\n",
    "print(round(totalUC,3))\n",
    "print(round(totalRev,3))\n",
    "print(round(totalCost,3))\n",
    "print(round(totalProfit,3))"
   ]
  },
  {
   "cell_type": "code",
   "execution_count": 81,
   "metadata": {},
   "outputs": [],
   "source": [
    "#write the result to MM_Calc\n",
    "with open(\"Project II/MM_Calc.txt\", \"a+\") as writer:\n",
    "    writer.writelines(\"\\nUnits Sold:249818150\\nUnit Cost:9360768.32\\nTotal Revenue:66145004417.17\\nTotal Cost:46629032915.81\\nTotal Profit:19515971501.36\")"
   ]
  },
  {
   "cell_type": "code",
   "execution_count": 82,
   "metadata": {},
   "outputs": [
    {
     "name": "stdout",
     "output_type": "stream",
     "text": [
      "4999.263\n",
      "187.324\n",
      "1323667.816\n",
      "933121.869\n",
      "390545.947\n"
     ]
    }
   ],
   "source": [
    "##calculate the AVERAGE of each requested columns, print and round the result to 3 decimal places\n",
    "avgUS=newMm['Units Sold'].mean()\n",
    "avgUC=newMm['Unit Cost'].mean()\n",
    "avgRev=newMm['Total Revenue'].mean()\n",
    "avgCost=newMm['Total Cost'].mean()\n",
    "avgProfit=newMm['Total Profit'].mean()\n",
    "print(round(avgUS,3))\n",
    "print(round(avgUC,3))\n",
    "print(round(avgRev,3))\n",
    "print(round(avgCost,3))\n",
    "print(round(avgProfit,3))"
   ]
  },
  {
   "cell_type": "code",
   "execution_count": 83,
   "metadata": {},
   "outputs": [],
   "source": [
    "#write the result to MM_Calc\n",
    "with open(\"Project II/MM_Calc.txt\", \"a+\") as writer:\n",
    "    writer.writelines('\\nAverages:\\nUnits Sold:4999.263\\nUnit Cost:187.324\\nTotal Revenue:1323667.816\\nTotal Cost:933121.869\\nTotal Profit:390545.947')"
   ]
  },
  {
   "cell_type": "code",
   "execution_count": 84,
   "metadata": {},
   "outputs": [
    {
     "name": "stdout",
     "output_type": "stream",
     "text": [
      "10000\n",
      "524.96\n",
      "6682031.73\n",
      "5249075.04\n",
      "1738178.39\n"
     ]
    }
   ],
   "source": [
    "##calculate the MAX of each requested columns, print and round the result to 3 decimal places\n",
    "maxUS=newMm['Units Sold'].max()\n",
    "maxUC=newMm['Unit Cost'].max()\n",
    "maxRev=newMm['Total Revenue'].max()\n",
    "maxCost=newMm['Total Cost'].max()\n",
    "maxProfit=newMm['Total Profit'].max()\n",
    "print(round(maxUS,3))\n",
    "print(round(maxUC,3))\n",
    "print(round(maxRev,3))\n",
    "print(round(maxCost,3))\n",
    "print(round(maxProfit,3))"
   ]
  },
  {
   "cell_type": "code",
   "execution_count": 85,
   "metadata": {},
   "outputs": [],
   "source": [
    "#write the result to MM_Calc\n",
    "with open(\"Project II/MM_Calc.txt\", \"a+\") as writer:\n",
    "    writer.writelines('\\nMaximums:\\nUnits Sold:10000\\nUnit Cost:524.96\\nTotal Revenue:6682031.73\\nTotal Cost:5249075.04\\nTotal Profit:1738178.39')"
   ]
  },
  {
   "cell_type": "code",
   "execution_count": 86,
   "metadata": {},
   "outputs": [
    {
     "name": "stdout",
     "output_type": "stream",
     "text": [
      "             Stat           Total\n",
      "0      Units Sold   249818150.000\n",
      "1       Unit Cost     9360768.320\n",
      "2  Total Revenue  66145004417.170\n",
      "3      Total Cost 46629032915.810\n",
      "4    Total Profit 19515971501.360\n"
     ]
    }
   ],
   "source": [
    "#create a data frame from the SUM calculation to plot\n",
    "sum=pd.DataFrame([['Units Sold',249818150],['Unit Cost',9360768.32],['Total Revenue ',66145004417.17],['Total Cost',46629032915.81],['Total Profit',19515971501.36]],columns=['Stat', 'Total'])\n",
    "print(sum)"
   ]
  },
  {
   "cell_type": "code",
   "execution_count": 87,
   "metadata": {},
   "outputs": [
    {
     "data": {
      "image/png": "[encoded data removed]",
      "text/plain": [
       "<Figure size 432x288 with 1 Axes>"
      ]
     },
     "metadata": {},
     "output_type": "display_data"
    }
   ],
   "source": [
    "#create a line plot for the sum\n",
    "sns.lineplot(x=\"Stat\", y=\"Total\", data=sum) \n",
    "plt.yscale('log') \n",
    "plt.title('Sum Stat')\n",
    "plt.show()"
   ]
  },
  {
   "cell_type": "code",
   "execution_count": 88,
   "metadata": {},
   "outputs": [
    {
     "name": "stdout",
     "output_type": "stream",
     "text": [
      "                  Average     Maximum\n",
      "Unit Sold        4999.263   10000.000\n",
      "Unit Cost         187.323     524.960\n",
      "Total Revenue 1323667.810 6682031.730\n",
      "Total Cost     933121.869 5249075.040\n",
      "Total Profit   390545.947 1738178.390\n"
     ]
    }
   ],
   "source": [
    "#create a data from the Average and Max calculation to plot a graph for both the averages and the maximums.\n",
    "\n",
    "avg_max = pd.DataFrame({\n",
    "    'Average': [4999.263, 187.323, 1323667.810, 933121.869, 390545.947],\n",
    "    'Maximum': [10000, 524.96, 6682031.73, 5249075.04, 1738178.39],\n",
    "   }, index=['Unit Sold', 'Unit Cost', 'Total Revenue', 'Total Cost', 'Total Profit'])\n",
    "print(avg_max)"
   ]
  },
  {
   "cell_type": "code",
   "execution_count": 89,
   "metadata": {},
   "outputs": [
    {
     "data": {
      "image/png": "[encoded data removed]",
      "text/plain": [
       "<Figure size 432x288 with 1 Axes>"
      ]
     },
     "metadata": {},
     "output_type": "display_data"
    }
   ],
   "source": [
    "# Create two line plots from the above data frame.\n",
    "fig = avg_max.plot.line()\n",
    "plt.title('Averages VS Maximums')\n",
    "plt.yscale('log')"
   ]
  },
  {
   "cell_type": "markdown",
   "metadata": {},
   "source": [
    "## PART 3: Cross-Reference Statistics"
   ]
  },
  {
   "cell_type": "markdown",
   "metadata": {},
   "source": [
    "- Question 1. Get a list of the Regions and then the countries we sell to in that region."
   ]
  },
  {
   "cell_type": "code",
   "execution_count": 91,
   "metadata": {},
   "outputs": [
    {
     "name": "stdout",
     "output_type": "stream",
     "text": [
      "{'Asia': ['Indonesia', 'India', 'South Korea', 'Kazakhstan', 'Mongolia', 'Malaysia', 'Singapore', 'Brunei', 'Kyrgyzstan', 'Taiwan', 'Sri Lanka', 'North Korea', 'Cambodia', 'Tajikistan', 'Turkmenistan', 'Maldives', 'Laos', 'Myanmar', 'Bhutan', 'Vietnam', 'Japan', 'Philippines', 'China', 'Bangladesh', 'Uzbekistan', 'Thailand', 'Nepal'], 'Australia and Oceania': ['Tuvalu', 'Samoa ', 'Fiji', 'Marshall Islands', 'New Zealand', 'Solomon Islands', 'Vanuatu', 'Australia', 'Papua New Guinea', 'Nauru', 'Kiribati', 'Tonga', 'Palau', 'East Timor', 'Federated States of Micronesia'], 'Central America and the Caribbean': ['Antigua and Barbuda ', 'Saint Kitts and Nevis ', 'Saint Lucia', 'Trinidad and Tobago', 'Guatemala', 'Saint Vincent and the Grenadines', 'Jamaica', 'Grenada', 'Honduras', 'Belize', 'Barbados', 'El Salvador', 'Dominican Republic', 'The Bahamas', 'Cuba', 'Nicaragua', 'Costa Rica', 'Panama', 'Dominica', 'Haiti'], 'Europe': ['Iceland', 'Russia', 'Moldova ', 'Malta', 'Greece', 'Ukraine', 'Finland', 'United Kingdom', 'San Marino', 'Kosovo', 'Hungary', 'Serbia', 'Poland', 'Lithuania', 'Portugal', 'Georgia', 'Bulgaria', 'Austria', 'Romania', 'Denmark', 'Luxembourg', 'Croatia', 'Sweden', 'Cyprus', 'Montenegro', 'Vatican City', 'France', 'Netherlands', 'Estonia', 'Bosnia and Herzegovina', 'Monaco', 'Germany', 'Slovenia', 'Ireland', 'Latvia', 'Belgium', 'Switzerland', 'Italy', 'Belarus', 'Czech Republic', 'Liechtenstein', 'Macedonia', 'Slovakia', 'Spain', 'Andorra', 'Albania', 'Norway', 'Armenia'], 'Middle East and North Africa': ['Turkey', 'Iraq', 'Kuwait', 'Tunisia ', 'Yemen', 'United Arab Emirates', 'Bahrain', 'Pakistan', 'Lebanon', 'Somalia', 'Egypt', 'Iran', 'Jordan', 'Syria', 'Morocco', 'Afghanistan', 'Azerbaijan', 'Saudi Arabia', 'Libya', 'Algeria', 'Oman', 'Israel', 'Qatar'], 'North America': ['Greenland', 'United States of America', 'Canada', 'Mexico'], 'Sub-Saharan Africa': ['Namibia', 'Djibouti', 'Cameroon', 'Nigeria', 'Senegal', 'Rwanda', 'South Sudan', 'Guinea', 'Botswana', 'Sudan', 'Tanzania', 'Sao Tome and Principe', 'Cape Verde', 'Guinea-Bissau', 'South Africa', 'Sierra Leone', 'Mozambique', 'Chad', 'Togo', 'Mali', 'Equatorial Guinea', 'Eritrea', 'Niger', 'Madagascar', 'Gabon', 'Angola', 'Ethiopia', 'Liberia', 'Democratic Republic of the Congo', 'Seychelles ', 'Mauritius ', 'Comoros', 'Burundi', 'Zambia', 'Lesotho', 'The Gambia', 'Benin', 'Malawi', 'Mauritania', 'Central African Republic', 'Kenya', 'Ghana', 'Swaziland', 'Burkina Faso', 'Uganda', 'Zimbabwe', \"Cote d'Ivoire\", 'Republic of the Congo']}\n"
     ]
    }
   ],
   "source": [
    "regCountr = newMm.groupby(['Region'])['Country'].unique().apply(list).to_dict() #create a dictionary with unique Countries grouped by Region\n",
    "print(regCountr)"
   ]
  },
  {
   "cell_type": "markdown",
   "metadata": {},
   "source": [
    "- Question 2: Write this out to a CSV file called Countries_By_Region.csv"
   ]
  },
  {
   "cell_type": "code",
   "execution_count": 92,
   "metadata": {},
   "outputs": [],
   "source": [
    "regC = pd.DataFrame.from_dict(regCountr, orient='index').transpose()\n",
    "regC.to_csv(\"Project II/Countries_By_Region.csv\",mode='w',index=False)"
   ]
  },
  {
   "cell_type": "code",
   "execution_count": null,
   "metadata": {},
   "outputs": [],
   "source": []
  }
 ],
 "metadata": {
  "kernelspec": {
   "display_name": "Python 3",
   "language": "python",
   "name": "python3"
  },
  "language_info": {
   "codemirror_mode": {
    "name": "ipython",
    "version": 3
   },
   "file_extension": ".py",
   "mimetype": "text/x-python",
   "name": "python",
   "nbconvert_exporter": "python",
   "pygments_lexer": "ipython3",
   "version": "3.8.5"
  }
 },
 "nbformat": 4,
 "nbformat_minor": 4
}
